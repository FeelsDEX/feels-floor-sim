{
 "cells": [
  {
   "cell_type": "markdown",
   "metadata": {},
   "source": [
    "# Feels Protocol Baseline Analysis\n",
    "\n",
    "This notebook provides exploratory analysis of the Feels protocol using current default parameters.\n",
    "It demonstrates the core simulation capabilities and provides baseline metrics for comparison\n",
    "with parameter optimization scenarios.\n",
    "\n",
    "## Objectives\n",
    "\n",
    "1. Run baseline simulation with current protocol defaults (98.5% buffer, 1% treasury, 0.5% creator)\n",
    "2. Analyze floor price dynamics and POMM deployment patterns\n",
    "3. Examine fee distribution and accumulation patterns\n",
    "4. Visualize key metrics and establish baseline performance\n",
    "5. Compare different fee scenarios to understand parameter sensitivity"
   ]
  },
  {
   "cell_type": "code",
   "execution_count": null,
   "metadata": {},
   "outputs": [],
   "source": [
    "# Import required libraries\n",
    "import sys\n",
    "from pathlib import Path\n",
    "import numpy as np\n",
    "import matplotlib.pyplot as plt\n",
    "import json\n",
    "from datetime import datetime\n",
    "\n",
    "# Add project root to path\n",
    "project_root = Path().cwd().parent\n",
    "sys.path.append(str(project_root))\n",
    "\n",
    "from feels_sim.config import SimulationConfig\n",
    "from feels_sim.core import FeelsSimulation\n",
    "from feels_sim.metrics import (\n",
    "    analyze_results, \n",
    "    create_summary_plots, \n",
    "    create_detailed_analysis_plots,\n",
    "    generate_summary_report,\n",
    "    calculate_floor_floor_ratio_stats,\n",
    "    calculate_pomm_efficiency_metrics\n",
    ")\n",
    "\n",
    "print(\"✓ Libraries imported successfully\")"
   ]
  },
  {
   "cell_type": "markdown",
   "metadata": {},
   "source": [
    "## 1. Baseline Simulation with Current Defaults"
   ]
  },
  {
   "cell_type": "code",
   "execution_count": null,
   "metadata": {},
   "outputs": [],
   "source": [
    "# Run baseline simulation with current protocol defaults\n",
    "print(\"Running baseline simulation (168 hours)...\")\n",
    "\n",
    "config = SimulationConfig()  # Uses current defaults: 98.5% buffer, 1% treasury, 0.5% creator\n",
    "print(f\"Fee split: {config.buffer_share_pct:.1f}% buffer, {config.treasury_share_pct:.1f}% treasury, {config.creator_share_pct:.1f}% creator\")\n",
    "\n",
    "sim = FeelsSimulation(config)\n",
    "baseline_results = sim.run(hours=168)  # 1 week\n",
    "\n",
    "print(f\"✓ Simulation completed: {len(baseline_results.snapshots)} snapshots, {len(baseline_results.hourly_aggregates)} hourly aggregates\")"
   ]
  },
  {
   "cell_type": "code",
   "execution_count": null,
   "metadata": {},
   "outputs": [],
   "source": [
    "# Analyze baseline results\n",
    "baseline_analysis = analyze_results(baseline_results)\n",
    "\n",
    "print(\"=== BASELINE SIMULATION RESULTS ===\")\n",
    "print(f\"Simulation Duration: {baseline_analysis['simulation_hours']:.1f} hours\")\n",
    "print(f\"Initial SOL Price: ${baseline_analysis['initial_sol_price']:.2f}\")\n",
    "print(f\"Final SOL Price: ${baseline_analysis['final_sol_price']:.2f}\")\n",
    "print(f\"Initial Floor Price: ${baseline_analysis['initial_floor_price']:.6f}\")\n",
    "print(f\"Final Floor Price: ${baseline_analysis['final_floor_price']:.6f}\")\n",
    "print(f\"\")\n",
    "print(f\"Floor Growth Rate (Annual): {baseline_analysis['floor_growth_rate_annual']:.2%}\")\n",
    "print(f\"Average Floor/Market Ratio: {baseline_analysis['avg_floor_to_market_ratio']:.2%}\")\n",
    "print(f\"Total POMM Deployments: {baseline_analysis['pomm_deployments']}\")\n",
    "print(f\"Total Trading Volume: {baseline_analysis['total_volume']:,.0f} FeelsSOL\")\n",
    "print(f\"Total Fees Collected: {baseline_analysis['total_fees']:,.2f} FeelsSOL\")\n",
    "print(f\"Protocol Efficiency: {baseline_analysis['protocol_efficiency']:.6f} USD/FeelsSOL\")\n",
    "print(f\"\")\n",
    "print(f\"Final Treasury Balance: {baseline_analysis['final_treasury_balance']:,.2f} FeelsSOL\")\n",
    "print(f\"Final Buffer Balance: {baseline_analysis['final_buffer_balance']:,.2f} FeelsSOL\")\n",
    "print(f\"Final Deployed FeelsSOL: {baseline_analysis['final_deployed_feelssol']:,.2f} FeelsSOL\")\n",
    "print(f\"Buffer Routed (Cumulative): {baseline_analysis['buffer_routed_cumulative']:,.2f} FeelsSOL\")\n",
    "print(f\"Mint Cumulative: {baseline_analysis['mint_cumulative']:,.2f} FeelsSOL\")"
   ]
  },
  {
   "cell_type": "markdown",
   "metadata": {},
   "source": [
    "## 2. Visualizations and Pattern Analysis"
   ]
  },
  {
   "cell_type": "code",
   "execution_count": null,
   "metadata": {},
   "outputs": [],
   "source": [
    "# Create comprehensive visualizations\n",
    "create_summary_plots(baseline_results)\n",
    "plt.suptitle('Baseline Simulation - Current Protocol Defaults (98.5/1/0.5)', fontsize=16)\n",
    "plt.tight_layout()\n",
    "plt.show()"
   ]
  },
  {
   "cell_type": "code",
   "execution_count": null,
   "metadata": {},
   "outputs": [],
   "source": [
    "# Create detailed hourly analysis\n",
    "create_detailed_analysis_plots(baseline_results)\n",
    "plt.suptitle('Baseline Simulation - Hourly Analysis', fontsize=16)\n",
    "plt.tight_layout()\n",
    "plt.show()"
   ]
  },
  {
   "cell_type": "markdown",
   "metadata": {},
   "source": [
    "## 3. Statistical Analysis of Key Metrics"
   ]
  },
  {
   "cell_type": "code",
   "execution_count": null,
   "metadata": {},
   "outputs": [],
   "source": [
    "# Floor/market ratio statistics\n",
    "ratio_stats = calculate_floor_floor_ratio_stats(baseline_results)\n",
    "\n",
    "print(\"=== FLOOR/MARKET RATIO STATISTICS ===\")\n",
    "for stat, value in ratio_stats.items():\n",
    "    print(f\"{stat}: {value:.4f}\")"
   ]
  },
  {
   "cell_type": "code",
   "execution_count": null,
   "metadata": {},
   "outputs": [],
   "source": [
    "# POMM efficiency metrics\n",
    "pomm_metrics = calculate_pomm_efficiency_metrics(baseline_results)\n",
    "\n",
    "print(\"=== POMM DEPLOYMENT EFFICIENCY ===\")\n",
    "for metric, value in pomm_metrics.items():\n",
    "    if isinstance(value, float):\n",
    "        print(f\"{metric}: {value:.2f}\")\n",
    "    else:\n",
    "        print(f\"{metric}: {value}\")"
   ]
  },
  {
   "cell_type": "markdown",
   "metadata": {},
   "source": [
    "## 4. Fee Distribution Analysis"
   ]
  },
  {
   "cell_type": "code",
   "execution_count": null,
   "metadata": {},
   "outputs": [],
   "source": [
    "# Analyze fee distribution patterns\n",
    "total_fees = baseline_analysis['total_fees']\n",
    "treasury_fees = baseline_analysis['final_treasury_balance']\n",
    "buffer_fees = baseline_analysis['buffer_routed_cumulative']\n",
    "\n",
    "# Calculate creator fees (would need to track separately)\n",
    "creator_fees = total_fees - treasury_fees - buffer_fees\n",
    "\n",
    "print(\"=== FEE DISTRIBUTION ANALYSIS ===\")\n",
    "print(f\"Total Fees Collected: {total_fees:,.2f} FeelsSOL\")\n",
    "print(f\"\")\n",
    "print(f\"Buffer Allocation: {buffer_fees:,.2f} FeelsSOL ({buffer_fees/total_fees*100:.1f}%)\")\n",
    "print(f\"Treasury Allocation: {treasury_fees:,.2f} FeelsSOL ({treasury_fees/total_fees*100:.1f}%)\")\n",
    "print(f\"Creator Allocation: {creator_fees:,.2f} FeelsSOL ({creator_fees/total_fees*100:.1f}%)\")\n",
    "print(f\"\")\n",
    "print(f\"Expected vs Actual Distribution:\")\n",
    "print(f\"Buffer: Expected {config.buffer_share_pct:.1f}%, Actual {buffer_fees/total_fees*100:.1f}%\")\n",
    "print(f\"Treasury: Expected {config.treasury_share_pct:.1f}%, Actual {treasury_fees/total_fees*100:.1f}%\")\n",
    "print(f\"Creator: Expected {config.creator_share_pct:.1f}%, Actual {creator_fees/total_fees*100:.1f}%\")"
   ]
  },
  {
   "cell_type": "markdown",
   "metadata": {},
   "source": [
    "## 5. Scenario Comparison Analysis"
   ]
  },
  {
   "cell_type": "code",
   "execution_count": null,
   "metadata": {},
   "outputs": [],
   "source": [
    "# Compare different fee scenarios\n",
    "scenarios = [\n",
    "    (\"current_default\", \"Current Default (98.5/1/0.5)\"),\n",
    "    (\"protocol_sustainable\", \"Protocol Sustainable (90/7/3)\"),\n",
    "    (\"creator_incentive\", \"Creator Incentive (90/5/5)\"),\n",
    "    (\"balanced_growth\", \"Balanced Growth (92/5/3)\")\n",
    "]\n",
    "\n",
    "scenario_results = {}\n",
    "\n",
    "print(\"Running scenario comparison analysis...\")\n",
    "\n",
    "for scenario_key, scenario_name in scenarios:\n",
    "    print(f\"Running {scenario_name}...\")\n",
    "    \n",
    "    config = SimulationConfig.create_fee_scenario(scenario_key)\n",
    "    sim = FeelsSimulation(config)\n",
    "    results = sim.run(hours=168)\n",
    "    analysis = analyze_results(results)\n",
    "    \n",
    "    scenario_results[scenario_key] = {\n",
    "        \"name\": scenario_name,\n",
    "        \"config\": {\n",
    "            \"buffer\": config.buffer_share_pct,\n",
    "            \"treasury\": config.treasury_share_pct,\n",
    "            \"creator\": config.creator_share_pct\n",
    "        },\n",
    "        \"analysis\": analysis\n",
    "    }\n",
    "    \n",
    "    print(f\"  Floor growth: {analysis['floor_growth_rate_annual']:.2%}, \"\n",
    "          f\"POMM deployments: {analysis['pomm_deployments']}, \"\n",
    "          f\"Treasury: {analysis['final_treasury_balance']:.1f}\")\n",
    "\n",
    "print(\"✓ Scenario comparison completed\")"
   ]
  },
  {
   "cell_type": "code",
   "execution_count": null,
   "metadata": {},
   "outputs": [],
   "source": [
    "# Create comparative visualization\n",
    "fig, axes = plt.subplots(2, 2, figsize=(15, 10))\n",
    "fig.suptitle('Fee Scenario Comparison', fontsize=16)\n",
    "\n",
    "scenarios_list = list(scenario_results.keys())\n",
    "scenario_names = [scenario_results[s][\"name\"] for s in scenarios_list]\n",
    "\n",
    "# Floor growth rates\n",
    "floor_growth = [scenario_results[s][\"analysis\"][\"floor_growth_rate_annual\"] for s in scenarios_list]\n",
    "axes[0, 0].bar(range(len(scenarios_list)), [x*100 for x in floor_growth])\n",
    "axes[0, 0].set_title('Floor Growth Rate (Annual %)')\n",
    "axes[0, 0].set_xticks(range(len(scenarios_list)))\n",
    "axes[0, 0].set_xticklabels([s.replace('_', '\\n') for s in scenarios_list], rotation=45)\n",
    "axes[0, 0].grid(True, alpha=0.3)\n",
    "\n",
    "# Treasury balances\n",
    "treasury_balances = [scenario_results[s][\"analysis\"][\"final_treasury_balance\"] for s in scenarios_list]\n",
    "axes[0, 1].bar(range(len(scenarios_list)), treasury_balances)\n",
    "axes[0, 1].set_title('Final Treasury Balance (FeelsSOL)')\n",
    "axes[0, 1].set_xticks(range(len(scenarios_list)))\n",
    "axes[0, 1].set_xticklabels([s.replace('_', '\\n') for s in scenarios_list], rotation=45)\n",
    "axes[0, 1].grid(True, alpha=0.3)\n",
    "\n",
    "# POMM deployments\n",
    "pomm_deployments = [scenario_results[s][\"analysis\"][\"pomm_deployments\"] for s in scenarios_list]\n",
    "axes[1, 0].bar(range(len(scenarios_list)), pomm_deployments)\n",
    "axes[1, 0].set_title('Total POMM Deployments')\n",
    "axes[1, 0].set_xticks(range(len(scenarios_list)))\n",
    "axes[1, 0].set_xticklabels([s.replace('_', '\\n') for s in scenarios_list], rotation=45)\n",
    "axes[1, 0].grid(True, alpha=0.3)\n",
    "\n",
    "# Protocol efficiency\n",
    "efficiency = [scenario_results[s][\"analysis\"][\"protocol_efficiency\"] for s in scenarios_list]\n",
    "axes[1, 1].bar(range(len(scenarios_list)), efficiency)\n",
    "axes[1, 1].set_title('Protocol Efficiency (USD/FeelsSOL)')\n",
    "axes[1, 1].set_xticks(range(len(scenarios_list)))\n",
    "axes[1, 1].set_xticklabels([s.replace('_', '\\n') for s in scenarios_list], rotation=45)\n",
    "axes[1, 1].grid(True, alpha=0.3)\n",
    "\n",
    "plt.tight_layout()\n",
    "plt.show()"
   ]
  },
  {
   "cell_type": "markdown",
   "metadata": {},
   "source": [
    "## 6. Key Insights and Recommendations"
   ]
  },
  {
   "cell_type": "code",
   "execution_count": null,
   "metadata": {},
   "outputs": [],
   "source": [
    "# Generate key insights\n",
    "print(\"=== KEY INSIGHTS FROM BASELINE ANALYSIS ===\")\n",
    "print()\n",
    "\n",
    "# Best performing scenario analysis\n",
    "best_floor_growth = max(scenario_results.items(), key=lambda x: x[1][\"analysis\"][\"floor_growth_rate_annual\"])\n",
    "best_treasury = max(scenario_results.items(), key=lambda x: x[1][\"analysis\"][\"final_treasury_balance\"])\n",
    "best_efficiency = max(scenario_results.items(), key=lambda x: x[1][\"analysis\"][\"protocol_efficiency\"])\n",
    "\n",
    "print(f\"1. Floor Growth Performance:\")\n",
    "print(f\"   Best: {best_floor_growth[1]['name']} ({best_floor_growth[1]['analysis']['floor_growth_rate_annual']:.2%} annual)\")\n",
    "print(f\"   Current default achieves {baseline_analysis['floor_growth_rate_annual']:.2%} annual growth\")\n",
    "print()\n",
    "\n",
    "print(f\"2. Treasury Accumulation:\")\n",
    "print(f\"   Best: {best_treasury[1]['name']} ({best_treasury[1]['analysis']['final_treasury_balance']:.1f} FeelsSOL)\")\n",
    "print(f\"   Current default accumulates {baseline_analysis['final_treasury_balance']:.1f} FeelsSOL\")\n",
    "print()\n",
    "\n",
    "print(f\"3. Protocol Efficiency:\")\n",
    "print(f\"   Best: {best_efficiency[1]['name']} ({best_efficiency[1]['analysis']['protocol_efficiency']:.6f} USD/FeelsSOL)\")\n",
    "print(f\"   Current default achieves {baseline_analysis['protocol_efficiency']:.6f} USD/FeelsSOL efficiency\")\n",
    "print()\n",
    "\n",
    "print(f\"4. Trade-offs Analysis:\")\n",
    "current_config = scenario_results['current_default']['config']\n",
    "sustainable_config = scenario_results['protocol_sustainable']['config']\n",
    "\n",
    "treasury_diff = best_treasury[1]['analysis']['final_treasury_balance'] - baseline_analysis['final_treasury_balance']\n",
    "floor_diff = best_floor_growth[1]['analysis']['floor_growth_rate_annual'] - baseline_analysis['floor_growth_rate_annual']\n",
    "\n",
    "print(f\"   Moving from current default to protocol sustainable:\")\n",
    "print(f\"   - Treasury gains: +{treasury_diff:.1f} FeelsSOL\")\n",
    "print(f\"   - Floor growth change: {floor_diff:+.2%}\")\n",
    "print(f\"   - Buffer allocation change: {sustainable_config['buffer'] - current_config['buffer']:+.1f}%\")\n",
    "print()\n",
    "\n",
    "print(f\"5. POMM Deployment Patterns:\")\n",
    "print(f\"   Baseline deployments: {baseline_analysis['pomm_deployments']} over {baseline_analysis['simulation_hours']:.0f} hours\")\n",
    "print(f\"   Deployment frequency: {baseline_analysis['pomm_deployments'] / baseline_analysis['simulation_hours'] * 24:.1f} per day\")\n",
    "print(f\"   Average deployment drives floor up by: {(baseline_analysis['final_floor_price'] - baseline_analysis['initial_floor_price']) / baseline_analysis['pomm_deployments']:.8f} USD\")"
   ]
  },
  {
   "cell_type": "markdown",
   "metadata": {},
   "source": [
    "## 7. Export Results for Further Analysis"
   ]
  },
  {
   "cell_type": "code",
   "execution_count": null,
   "metadata": {},
   "outputs": [],
   "source": [
    "# Export results for use in parameter sweep notebook\n",
    "baseline_export = {\n",
    "    \"timestamp\": datetime.now().isoformat(),\n",
    "    \"baseline_config\": {\n",
    "        \"treasury_share_pct\": config.treasury_share_pct,\n",
    "        \"creator_share_pct\": config.creator_share_pct,\n",
    "        \"buffer_share_pct\": config.buffer_share_pct,\n",
    "        \"base_fee_bps\": config.base_fee_bps,\n",
    "    },\n",
    "    \"baseline_analysis\": baseline_analysis,\n",
    "    \"scenario_comparison\": scenario_results,\n",
    "    \"ratio_statistics\": ratio_stats,\n",
    "    \"pomm_metrics\": pomm_metrics\n",
    "}\n",
    "\n",
    "# Save to experiments directory\n",
    "export_path = project_root / \"experiments\" / \"runs\" / \"baseline_analysis.json\"\n",
    "export_path.parent.mkdir(parents=True, exist_ok=True)\n",
    "\n",
    "with open(export_path, 'w') as f:\n",
    "    json.dump(baseline_export, f, indent=2)\n",
    "\n",
    "print(f\"✓ Baseline analysis results exported to {export_path}\")\n",
    "print(f\"✓ Use this data in parameter sweep analysis (02_parameter_sweep.ipynb)\")"
   ]
  },
  {
   "cell_type": "markdown",
   "metadata": {},
   "source": [
    "## Summary\n",
    "\n",
    "This baseline analysis provides:\n",
    "\n",
    "1. **Reference Performance Metrics** - Current protocol defaults performance baseline\n",
    "2. **Fee Distribution Validation** - Confirms actual vs expected fee routing\n",
    "3. **POMM Deployment Patterns** - Understanding of floor advancement dynamics\n",
    "4. **Scenario Comparison** - Initial insights into parameter sensitivity\n",
    "5. **Trade-off Analysis** - Foundation for parameter optimization decisions\n",
    "\n",
    "**Next Steps:**\n",
    "- Use `just sweep` to run comprehensive parameter sweeps\n",
    "- Analyze results in `02_parameter_sweep.ipynb`\n",
    "- Generate governance recommendations based on findings\n",
    "\n",
    "**Key Finding:** The current defaults (98.5/1/0.5) prioritize floor advancement over protocol treasury accumulation. Alternative scenarios show the trade-offs available for optimization."
   ]
  }
 ],
 "metadata": {
  "kernelspec": {
   "display_name": "feels-floor-sim",
   "language": "python",
   "name": "feels-floor-sim"
  },
  "language_info": {
   "codemirror_mode": {
    "name": "ipython",
    "version": 3
   },
   "file_extension": ".py",
   "mimetype": "text/x-python",
   "name": "python",
   "nbconvert_exporter": "python",
   "pygments_lexer": "ipython3",
   "version": "3.11.0"
  }
 },
 "nbformat": 4,
 "nbformat_minor": 4
}