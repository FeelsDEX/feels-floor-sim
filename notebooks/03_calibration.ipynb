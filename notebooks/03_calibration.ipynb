{
 "cells": [
  {
   "cell_type": "markdown",
   "metadata": {},
   "source": [
    "# Feels Protocol Simulation Calibration\n",
    "\n",
    "This notebook calibrates the simulation parameters based on historical Solana CLMM data and generates baseline parameter configurations."
   ]
  },
  {
   "cell_type": "code",
   "execution_count": null,
   "metadata": {},
   "outputs": [],
   "source": [
    "import json\n",
    "import numpy as np\n",
    "import polars as pl\n",
    "import matplotlib.pyplot as plt\n",
    "from pathlib import Path\n",
    "\n",
    "# Import feels simulation components\n",
    "import sys\n",
    "sys.path.append('..')\n",
    "from feels_sim.config import SimulationConfig\n",
    "from feels_sim.participants import ParticipantConfig\n",
    "from feels_sim.core import FeelsSimulation"
   ]
  },
  {
   "cell_type": "markdown",
   "metadata": {},
   "source": [
    "## Historical Data Analysis (Placeholder)\n",
    "\n",
    "In a production setup, this section would:\n",
    "1. Pull historical swap data from Solana CLMMs (Orca Whirlpools, Raydium)\n",
    "2. Analyze trade size distributions, frequency patterns, and liquidity utilization\n",
    "3. Calibrate participant behavior parameters to match observed patterns\n",
    "\n",
    "For now, we'll use reasonable baseline parameters based on DeFi market knowledge."
   ]
  },
  {
   "cell_type": "code",
   "execution_count": null,
   "metadata": {},
   "outputs": [],
   "source": [
    "# Placeholder for historical data analysis\n",
    "# In production, this would pull from Solana RPC or data providers\n",
    "\n",
    "def analyze_historical_trading_patterns():\n",
    "    \"\"\"Placeholder for historical data analysis.\"\"\"\n",
    "    # Mock data representing typical DeFi trading patterns\n",
    "    return {\n",
    "        'daily_volume_range': (50000, 500000),  # FeelsSOL\n",
    "        'retail_trade_size_median': 100,\n",
    "        'algo_trade_size_median': 2000,\n",
    "        'trade_frequency_per_hour': 120,\n",
    "        'lp_position_median': 10000,\n",
    "        'fee_elasticity_coefficient': -1.5  # volume decreases as fees increase\n",
    "    }\n",
    "\n",
    "historical_patterns = analyze_historical_trading_patterns()\n",
    "print(\"Historical trading patterns (mock data):\")\n",
    "for key, value in historical_patterns.items():\n",
    "    print(f\"  {key}: {value}\")"
   ]
  },
  {
   "cell_type": "markdown",
   "metadata": {},
   "source": [
    "## Baseline Parameter Configuration\n",
    "\n",
    "Generate baseline parameters calibrated to typical DeFi market conditions."
   ]
  },
  {
   "cell_type": "code",
   "execution_count": null,
   "metadata": {},
   "outputs": [],
   "source": [
    "def create_baseline_config():\n",
    "    \"\"\"Create baseline simulation configuration.\"\"\"\n",
    "    \n",
    "    # Market environment parameters\n",
    "    sim_config = {\n",
    "        'initial_sol_price_usd': 100.0,\n",
    "        'sol_volatility_daily': 0.05,  # 5% daily volatility\n",
    "        'sol_trend_bias': 0.0,  # No directional bias\n",
    "        'base_fee_bps': 30,  # 0.30% base fee\n",
    "        'buffer_share_pct': 85.0,\n",
    "        'treasury_share_pct': 10.0,\n",
    "        'creator_share_pct': 5.0,\n",
    "        'jitosol_yield_apy': 0.07,  # 7% APY\n",
    "        'enable_participant_behavior': True\n",
    "    }\n",
    "    \n",
    "    # Participant behavior parameters (calibrated to DeFi patterns)\n",
    "    participant_config = {\n",
    "        # Retail traders: price-sensitive, sentiment-driven\n",
    "        'retail_count': 80,\n",
    "        'retail_base_frequency': 3.0,  # trades per day\n",
    "        'retail_size_mean': 75.0,  # FeelsSOL\n",
    "        'retail_size_variance': 1.0,\n",
    "        'retail_fee_sensitivity': 2.5,  # high fee sensitivity\n",
    "        'retail_sentiment_sensitivity': 0.8,\n",
    "        \n",
    "        # Algo traders: less fee sensitive, larger trades\n",
    "        'algo_count': 15,\n",
    "        'algo_base_frequency': 25.0,  # trades per day\n",
    "        'algo_size_mean': 1500.0,  # FeelsSOL\n",
    "        'algo_size_variance': 1.2,\n",
    "        'algo_fee_sensitivity': 0.8,  # moderate fee sensitivity\n",
    "        'algo_sentiment_sensitivity': 0.3,\n",
    "        \n",
    "        # Liquidity providers: fee-earnings focused\n",
    "        'lp_count': 25,\n",
    "        'lp_position_size_mean': 8000.0,  # FeelsSOL\n",
    "        'lp_position_size_variance': 1.1,\n",
    "        'lp_fee_sensitivity': 3.5,  # very sensitive to fee earnings\n",
    "        'lp_rebalance_frequency': 8.0,  # hours\n",
    "        \n",
    "        # Arbitrageurs: opportunistic, fast execution\n",
    "        'arb_count': 8,\n",
    "        'arb_size_mean': 800.0,  # FeelsSOL\n",
    "        'arb_threshold_bps': 8.0,  # 8 bps minimum profit\n",
    "        'arb_response_time': 1.5  # minutes\n",
    "    }\n",
    "    \n",
    "    return {\n",
    "        'simulation_config': sim_config,\n",
    "        'participant_config': participant_config,\n",
    "        'calibration_metadata': {\n",
    "            'created_date': '2024-10-16',\n",
    "            'data_sources': ['mock_defi_patterns'],\n",
    "            'version': '1.0.0',\n",
    "            'description': 'Baseline configuration calibrated to typical DeFi market patterns'\n",
    "        }\n",
    "    }\n",
    "\n",
    "baseline_params = create_baseline_config()\n",
    "print(\"Baseline configuration created\")\n",
    "print(f\"Retail traders: {baseline_params['participant_config']['retail_count']}\")\n",
    "print(f\"Algo traders: {baseline_params['participant_config']['algo_count']}\")\n",
    "print(f\"LPs: {baseline_params['participant_config']['lp_count']}\")\n",
    "print(f\"Arbitrageurs: {baseline_params['participant_config']['arb_count']}\")"
   ]
  },
  {
   "cell_type": "markdown",
   "metadata": {},
   "source": [
    "## Parameter Validation\n",
    "\n",
    "Test the calibrated parameters to ensure they produce reasonable market behavior."
   ]
  },
  {
   "cell_type": "code",
   "execution_count": null,
   "metadata": {},
   "outputs": [],
   "source": [
    "def validate_parameters(config_dict):\n",
    "    \"\"\"Validate calibrated parameters by running short simulations.\"\"\"\n",
    "    \n",
    "    # Create configuration objects\n",
    "    participant_config = ParticipantConfig(**config_dict['participant_config'])\n",
    "    sim_config = SimulationConfig(\n",
    "        participant_config=participant_config,\n",
    "        **config_dict['simulation_config']\n",
    "    )\n",
    "    \n",
    "    # Run validation simulation\n",
    "    print(\"Running validation simulation (48 hours)...\")\n",
    "    sim = FeelsSimulation(sim_config)\n",
    "    results = sim.run(hours=48)\n",
    "    \n",
    "    # Calculate key metrics\n",
    "    total_volume = sum(h['total_volume'] for h in results.hourly_aggregates)\n",
    "    avg_hourly_volume = total_volume / 48\n",
    "    final_floor = results.snapshots[-1].floor_price_usd\n",
    "    pomm_deployments = results.snapshots[-1].floor_state.pomm_deployments_count\n",
    "    \n",
    "    validation_results = {\n",
    "        'total_volume_48h': total_volume,\n",
    "        'avg_hourly_volume': avg_hourly_volume,\n",
    "        'final_floor_price': final_floor,\n",
    "        'pomm_deployments': pomm_deployments,\n",
    "        'snapshots_count': len(results.snapshots)\n",
    "    }\n",
    "    \n",
    "    print(\"Validation results:\")\n",
    "    for key, value in validation_results.items():\n",
    "        if isinstance(value, float):\n",
    "            print(f\"  {key}: {value:.2f}\")\n",
    "        else:\n",
    "            print(f\"  {key}: {value}\")\n",
    "    \n",
    "    return validation_results\n",
    "\n",
    "validation_results = validate_parameters(baseline_params)\n",
    "\n",
    "# Check if results are reasonable\n",
    "reasonable = (\n",
    "    1000 < validation_results['total_volume_48h'] < 2000000 and  # Volume in reasonable range\n",
    "    validation_results['final_floor_price'] > 0 and  # Floor price exists\n",
    "    validation_results['pomm_deployments'] > 0  # POMM is deploying\n",
    ")\n",
    "\n",
    "print(f\"\\nParameters appear reasonable: {reasonable}\")"
   ]
  },
  {
   "cell_type": "markdown",
   "metadata": {},
   "source": [
    "## Fee Elasticity Testing\n",
    "\n",
    "Test fee elasticity to ensure participant behavior responds appropriately to fee changes."
   ]
  },
  {
   "cell_type": "code",
   "execution_count": null,
   "metadata": {},
   "outputs": [],
   "source": "def test_fee_elasticity(base_config):\n    \"\"\"Test fee elasticity across different fee levels.\"\"\"\n    \n    fee_levels = [10, 20, 30, 40, 50]  # basis points\n    volumes = []\n    \n    print(\"Testing fee elasticity...\")\n    \n    for fee_bps in fee_levels:\n        # Create config for this fee level\n        config = base_config.copy()\n        config['simulation_config']['base_fee_bps'] = fee_bps\n        \n        participant_config = ParticipantConfig(**config['participant_config'])\n        sim_config = SimulationConfig(\n            participant_config=participant_config,\n            **config['simulation_config']\n        )\n        \n        # Run short simulation\n        sim = FeelsSimulation(sim_config)\n        results = sim.run(hours=24)\n        \n        total_volume = sum(h['total_volume'] for h in results.hourly_aggregates)\n        volumes.append(total_volume)\n        \n        print(f\"  Fee {fee_bps}bps: Volume {total_volume:.0f}\")\n    \n    # Calculate elasticity\n    fee_changes = np.diff(fee_levels) / np.array(fee_levels[:-1])\n    volume_changes = np.diff(volumes) / np.array(volumes[:-1])\n    elasticity = volume_changes / fee_changes\n    \n    avg_elasticity = np.mean(elasticity)\n    print(f\"\\nAverage fee elasticity: {avg_elasticity:.2f}\")\n    print(f\"Volume decreases as fees increase: {volumes[-1] < volumes[0]}\")\n    \n    return fee_levels, volumes, avg_elasticity\n\nfee_levels, volumes, elasticity = test_fee_elasticity(baseline_params)\n\n# Plot fee elasticity\nplt.figure(figsize=(10, 6))\nplt.plot(fee_levels, volumes, 'o-', linewidth=2, markersize=8)\nplt.xlabel('Base Fee (basis points)')\nplt.ylabel('24h Trading Volume (FeelsSOL)')\nplt.title('Fee Elasticity: Volume vs Fee Level')\nplt.grid(True, alpha=0.3)\nplt.show()\n\nprint(f\"Fee elasticity validation: {'PASS' if elasticity < 0 else 'FAIL'} (should be negative)\")"
  },
  {
   "cell_type": "markdown",
   "metadata": {},
   "source": [
    "## Export Calibrated Parameters\n",
    "\n",
    "Save the validated parameters to a configuration file for use in simulations."
   ]
  },
  {
   "cell_type": "code",
   "execution_count": null,
   "metadata": {},
   "outputs": [],
   "source": [
    "# Add validation results to metadata\n",
    "baseline_params['calibration_metadata'].update({\n",
    "    'validation_results': validation_results,\n",
    "    'fee_elasticity': elasticity,\n",
    "    'validation_passed': reasonable and elasticity < 0\n",
    "})\n",
    "\n",
    "# Save to experiments/configs/\n",
    "output_path = Path('../experiments/configs/params_baseline.json')\n",
    "output_path.parent.mkdir(parents=True, exist_ok=True)\n",
    "\n",
    "with open(output_path, 'w') as f:\n",
    "    json.dump(baseline_params, f, indent=2)\n",
    "\n",
    "print(f\"Baseline parameters exported to: {output_path}\")\n",
    "print(f\"Configuration includes {len(baseline_params)} sections\")\n",
    "print(f\"Validation passed: {baseline_params['calibration_metadata']['validation_passed']}\")"
   ]
  },
  {
   "cell_type": "markdown",
   "metadata": {},
   "source": "## Summary\n\nThis calibration notebook:\n\n1. Analyzes historical trading patterns (placeholder implementation)\n2. Creates baseline participant behavior parameters\n3. Validates parameters through simulation testing\n4. Tests fee elasticity to ensure realistic behavior\n5. Exports calibrated parameters for simulation use\n\n**Next Steps:**\n- Replace placeholder historical analysis with real Solana CLMM data\n- Implement additional market scenarios (bull/bear/sideways)\n- Add LP retention and arbitrage efficiency metrics\n- Create parameter sensitivity analysis"
  }
 ],
 "metadata": {
  "kernelspec": {
   "display_name": "Python 3",
   "language": "python",
   "name": "python3"
  },
  "language_info": {
   "codemirror_mode": {
    "name": "ipython",
    "version": 3
   },
   "file_extension": ".py",
   "mimetype": "text/x-python",
   "name": "python",
   "nbconvert_exporter": "python",
   "pygments_lexer": "ipython3",
   "version": "3.13.7"
  }
 },
 "nbformat": 4,
 "nbformat_minor": 4
}