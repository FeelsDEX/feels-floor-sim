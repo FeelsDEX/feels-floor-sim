{
 "cells": [
  {
   "cell_type": "markdown",
   "metadata": {},
   "source": [
    "# Feels Protocol Simulation Calibration\n",
    "\n",
    "This notebook calibrates the simulation parameters based on historical Solana CLMM data and generates baseline parameter configurations."
   ]
  },
  {
   "cell_type": "code",
   "execution_count": null,
   "metadata": {},
   "outputs": [],
   "source": "import json\nimport numpy as np\nimport polars as pl\nimport matplotlib.pyplot as plt\nimport seaborn as sns\nfrom pathlib import Path\nimport sys\n\n# Setup path handling for both local and online execution\ntry:\n    # Try importing the package directly (works when installed via pip)\n    from feels_sim.config import SimulationConfig\n    from feels_sim.core import FeelsSimulation\n    from feels_sim.plotting import setup_plot_style, DEFAULT_STYLE, create_figure_with_style, save_plot\n    print(\"Package imported successfully\")\n    project_root = None  # Not needed when package is installed\n    \nexcept ImportError:\n    # Fallback for local development - add project root to path\n    print(\"Package not installed, using local development setup...\")\n    project_root = Path().cwd().parent\n    sys.path.insert(0, str(project_root))\n    \n    try:\n        from feels_sim.config import SimulationConfig\n        from feels_sim.core import FeelsSimulation\n        from feels_sim.plotting import setup_plot_style, DEFAULT_STYLE, create_figure_with_style, save_plot\n        print(\"Local development imports successful\")\n    except ImportError as e:\n        print(f\"Import failed: {e}\")\n        print(\"Please ensure feels_sim package is installed or you're running from the project directory\")\n        raise\n\n# Setup centralized plotting style\nsetup_plot_style()\n\nprint(\"Libraries imported with centralized plotting style configured\")"
  },
  {
   "cell_type": "markdown",
   "metadata": {},
   "source": [
    "## Historical Data Analysis (Placeholder)\n",
    "\n",
    "In a production setup, this section would:\n",
    "1. Pull historical swap data from Solana CLMMs (Orca Whirlpools, Raydium)\n",
    "2. Analyze trade size distributions, frequency patterns, and liquidity utilization\n",
    "3. Calibrate participant behavior parameters to match observed patterns\n",
    "\n",
    "For now, we'll use reasonable baseline parameters based on DeFi market knowledge."
   ]
  },
  {
   "cell_type": "code",
   "execution_count": null,
   "metadata": {},
   "outputs": [],
   "source": [
    "# Placeholder for historical data analysis\n",
    "# In production, this would pull from Solana RPC or data providers\n",
    "\n",
    "def analyze_historical_trading_patterns():\n",
    "    \"\"\"Placeholder for historical data analysis.\"\"\"\n",
    "    # Mock data representing typical DeFi trading patterns\n",
    "    return {\n",
    "        'daily_volume_range': (50000, 500000),  # FeelsSOL\n",
    "        'retail_trade_size_median': 100,\n",
    "        'algo_trade_size_median': 2000,\n",
    "        'trade_frequency_per_hour': 120,\n",
    "        'lp_position_median': 10000,\n",
    "        'fee_elasticity_coefficient': -1.5  # volume decreases as fees increase\n",
    "    }\n",
    "\n",
    "historical_patterns = analyze_historical_trading_patterns()\n",
    "print(\"Historical trading patterns (mock data):\")\n",
    "for key, value in historical_patterns.items():\n",
    "    print(f\"  {key}: {value}\")"
   ]
  },
  {
   "cell_type": "markdown",
   "metadata": {},
   "source": [
    "## Baseline Parameter Configuration\n",
    "\n",
    "Generate baseline parameters calibrated to typical DeFi market conditions."
   ]
  },
  {
   "cell_type": "code",
   "execution_count": null,
   "metadata": {},
   "outputs": [],
   "source": [
    "def create_baseline_config():\n",
    "    \"\"\"Create baseline simulation configuration.\"\"\"\n",
    "    \n",
    "    # Market environment parameters (using new fee system)\n",
    "    sim_config = {\n",
    "        'initial_sol_price_usd': 100.0,\n",
    "        'sol_volatility_daily': 0.05,  # 5% daily volatility\n",
    "        'sol_trend_bias': 0.0,  # No directional bias\n",
    "        'base_fee_bps': 30,  # 0.30% base fee\n",
    "        'protocol_fee_rate_bps': 100,  # 1.0% protocol fee\n",
    "        'creator_fee_rate_bps': 50,   # 0.5% creator fee\n",
    "        'jitosol_yield_apy': 0.07,  # 7% APY\n",
    "        'enable_participant_behavior': True\n",
    "    }\n",
    "    \n",
    "    return {\n",
    "        'simulation_config': sim_config,\n",
    "        'calibration_metadata': {\n",
    "            'created_date': '2024-10-16',\n",
    "            'data_sources': ['mock_defi_patterns'],\n",
    "            'version': '1.0.0',\n",
    "            'description': 'Baseline configuration calibrated to typical DeFi market patterns'\n",
    "        }\n",
    "    }\n",
    "\n",
    "baseline_params = create_baseline_config()\n",
    "print(\"Baseline configuration created\")\n",
    "print(f\"Protocol fee: {baseline_params['simulation_config']['protocol_fee_rate_bps']} bps\")\n",
    "print(f\"Creator fee: {baseline_params['simulation_config']['creator_fee_rate_bps']} bps\")\n",
    "print(f\"Base fee: {baseline_params['simulation_config']['base_fee_bps']} bps\")"
   ]
  },
  {
   "cell_type": "markdown",
   "metadata": {},
   "source": [
    "## Parameter Validation\n",
    "\n",
    "Test the calibrated parameters to ensure they produce reasonable market behavior."
   ]
  },
  {
   "cell_type": "code",
   "execution_count": null,
   "metadata": {},
   "outputs": [],
   "source": [
    "def validate_parameters(config_dict):\n",
    "    \"\"\"Validate calibrated parameters by running short simulations.\"\"\"\n",
    "    \n",
    "    # Create configuration object using new system\n",
    "    sim_config = SimulationConfig(**config_dict['simulation_config'])\n",
    "    \n",
    "    # Run validation simulation\n",
    "    print(\"Running validation simulation (48 hours)...\")\n",
    "    sim = FeelsSimulation(sim_config)\n",
    "    results = sim.run(hours=48)\n",
    "    \n",
    "    # Calculate key metrics using new results structure\n",
    "    total_volume = sum(s.volume_feelssol for s in results.snapshots)\n",
    "    avg_hourly_volume = total_volume / 48\n",
    "    final_floor = results.snapshots[-1].floor_price_usd\n",
    "    final_state = results.snapshots[-1].floor_state\n",
    "    \n",
    "    validation_results = {\n",
    "        'total_volume_48h': total_volume,\n",
    "        'avg_hourly_volume': avg_hourly_volume,\n",
    "        'final_floor_price': final_floor,\n",
    "        'final_treasury_balance': final_state.treasury_balance,\n",
    "        'final_buffer_balance': final_state.buffer_balance,\n",
    "        'snapshots_count': len(results.snapshots)\n",
    "    }\n",
    "    \n",
    "    print(\"Validation results:\")\n",
    "    for key, value in validation_results.items():\n",
    "        if isinstance(value, float):\n",
    "            print(f\"  {key}: {value:.2f}\")\n",
    "        else:\n",
    "            print(f\"  {key}: {value}\")\n",
    "    \n",
    "    return validation_results\n",
    "\n",
    "validation_results = validate_parameters(baseline_params)\n",
    "\n",
    "# Check if results are reasonable\n",
    "reasonable = (\n",
    "    1000 < validation_results['total_volume_48h'] < 2000000 and  # Volume in reasonable range\n",
    "    validation_results['final_floor_price'] > 0 and  # Floor price exists\n",
    "    validation_results['final_treasury_balance'] > 0  # Treasury has accumulation\n",
    ")\n",
    "\n",
    "print(f\"\\nParameters appear reasonable: {reasonable}\")"
   ]
  },
  {
   "cell_type": "markdown",
   "metadata": {},
   "source": [
    "## Fee Elasticity Testing\n",
    "\n",
    "Test fee elasticity to ensure participant behavior responds appropriately to fee changes."
   ]
  },
  {
   "cell_type": "code",
   "execution_count": null,
   "metadata": {},
   "outputs": [],
   "source": "def test_fee_elasticity(base_config):\n    \"\"\"Test fee elasticity across different fee levels.\"\"\"\n    \n    fee_levels = [10, 20, 30, 40, 50]  # basis points\n    volumes = []\n    \n    print(\"Testing fee elasticity...\")\n    \n    for fee_bps in fee_levels:\n        # Create config for this fee level\n        config = base_config['simulation_config'].copy()\n        config['base_fee_bps'] = fee_bps\n        \n        sim_config = SimulationConfig(**config)\n        \n        # Run short simulation\n        sim = FeelsSimulation(sim_config)\n        results = sim.run(hours=24)\n        \n        total_volume = sum(s.volume_feelssol for s in results.snapshots)\n        volumes.append(total_volume)\n        \n        print(f\"  Fee {fee_bps}bps: Volume {total_volume:.0f}\")\n    \n    # Calculate elasticity\n    fee_changes = np.diff(fee_levels) / np.array(fee_levels[:-1])\n    volume_changes = np.diff(volumes) / np.array(volumes[:-1])\n    elasticity = volume_changes / fee_changes\n    \n    avg_elasticity = np.mean(elasticity)\n    print(f\"\\nAverage fee elasticity: {avg_elasticity:.2f}\")\n    print(f\"Volume decreases as fees increase: {volumes[-1] < volumes[0]}\")\n    \n    return fee_levels, volumes, avg_elasticity\n\nfee_levels, volumes, elasticity = test_fee_elasticity(baseline_params)\n\n# Plot fee elasticity using centralized plotting system\nfig, ax = create_figure_with_style(1, 1, DEFAULT_STYLE.figure_size_single)\n\n# Get centralized color palette\ncolors = DEFAULT_STYLE.color_palette\n\n# Main volume plot\nax.plot(fee_levels, volumes, 'o-', linewidth=DEFAULT_STYLE.linewidth * 2, markersize=10, \n        color=colors[0], markeredgecolor='white', markeredgewidth=DEFAULT_STYLE.marker_edgewidth, \n        alpha=DEFAULT_STYLE.alpha, label='Trading Volume')\n\n# Add trend line\nz = np.polyfit(fee_levels, volumes, 1)\np = np.poly1d(z)\nax.plot(fee_levels, p(fee_levels), \"--\", alpha=DEFAULT_STYLE.alpha - 0.1, \n        color=colors[1], linewidth=DEFAULT_STYLE.linewidth, \n        label=f'Trend (slope: {z[0]:.0f})')\n\nax.set_xlabel('Base Fee (basis points)', weight='bold')\nax.set_ylabel('24h Trading Volume (FeelsSOL)', weight='bold')\nax.set_title('Fee Elasticity: Volume vs Fee Level', weight='bold', pad=20)\nax.legend(frameon=True, fancybox=True, shadow=True)\n\n# Add annotations using centralized styling\nax.annotate(f'Elasticity: {elasticity:.2f}', \n           xy=(0.02, 0.98), xycoords='axes fraction',\n           bbox=dict(boxstyle='round,pad=0.5', facecolor='lightblue', alpha=0.8),\n           fontsize=12, weight='bold', va='top')\n\nplt.tight_layout()\n\n# Save using centralized function\nsave_plot(fig, None, \"fee_elasticity_calibration\")\nplt.show()\n\nprint(f\"Fee elasticity validation: {'PASS' if elasticity < 0 else 'FAIL'} (should be negative)\")"
  },
  {
   "cell_type": "markdown",
   "metadata": {},
   "source": [
    "## Export Calibrated Parameters\n",
    "\n",
    "Save the validated parameters to a configuration file for use in simulations."
   ]
  },
  {
   "cell_type": "code",
   "execution_count": null,
   "metadata": {},
   "outputs": [],
   "source": "# Add validation results to metadata\nbaseline_params['calibration_metadata'].update({\n    'validation_results': validation_results,\n    'fee_elasticity': elasticity,\n    'validation_passed': reasonable and elasticity < 0\n})\n\n# Setup export path for both local and online execution\nif project_root is not None:\n    # Local development\n    output_path = project_root / 'experiments' / 'configs' / 'params_baseline.json'\nelse:\n    # Online/installed package execution\n    output_path = Path('experiments') / 'configs' / 'params_baseline.json'\n\noutput_path.parent.mkdir(parents=True, exist_ok=True)\n\nwith open(output_path, 'w') as f:\n    json.dump(baseline_params, f, indent=2)\n\nprint(f\"Baseline parameters exported to: {output_path}\")\nprint(f\"Configuration includes {len(baseline_params)} sections\")\nprint(f\"Validation passed: {baseline_params['calibration_metadata']['validation_passed']}\")"
  },
  {
   "cell_type": "markdown",
   "metadata": {},
   "source": [
    "## Summary\n",
    "\n",
    "This calibration notebook:\n",
    "\n",
    "1. Analyzes historical trading patterns (placeholder implementation)\n",
    "2. Creates baseline participant behavior parameters\n",
    "3. Validates parameters through simulation testing\n",
    "4. Tests fee elasticity to ensure realistic behavior\n",
    "5. Exports calibrated parameters for simulation use\n",
    "\n",
    "**Next Steps:**\n",
    "- Replace placeholder historical analysis with real Solana CLMM data\n",
    "- Implement additional market scenarios (bull/bear/sideways)\n",
    "- Add LP retention and arbitrage efficiency metrics\n",
    "- Create parameter sensitivity analysis"
   ]
  }
 ],
 "metadata": {
  "kernelspec": {
   "display_name": "Python 3",
   "language": "python",
   "name": "python3"
  },
  "language_info": {
   "codemirror_mode": {
    "name": "ipython",
    "version": 3
   },
   "file_extension": ".py",
   "mimetype": "text/x-python",
   "name": "python",
   "nbconvert_exporter": "python",
   "pygments_lexer": "ipython3",
   "version": "3.13.7"
  }
 },
 "nbformat": 4,
 "nbformat_minor": 4
}