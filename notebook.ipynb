{
 "cells": [
  {
   "cell_type": "markdown",
   "metadata": {},
   "source": []
  },
  {
   "cell_type": "markdown",
   "metadata": {},
   "source": [
    "# Test Notebook\n",
    "\n",
    "This notebook tests the Python environment with a simple polars plot."
   ]
  },
  {
   "cell_type": "code",
   "execution_count": null,
   "metadata": {},
   "outputs": [],
   "source": [
    "import polars as pl\n",
    "import matplotlib.pyplot as plt\n",
    "import numpy as np\n",
    "\n",
    "print(f\"Polars version: {pl.__version__}\")\n",
    "print(f\"Matplotlib version: {plt.matplotlib.__version__}\")\n",
    "print(f\"NumPy version: {np.__version__}\")"
   ]
  },
  {
   "cell_type": "code",
   "execution_count": null,
   "metadata": {},
   "outputs": [],
   "source": [
    "# Create sample data\n",
    "from datetime import date\n",
    "\n",
    "# Use datetime.date for start/end instead of pl.datetime\n",
    "dates = pl.date_range(\n",
    "    start=date(2024, 1, 1),\n",
    "    end=date(2024, 1, 30),\n",
    "    interval=\"1d\",\n",
    "    eager=True  # This returns actual values instead of an expression\n",
    ")\n",
    "values = np.random.randn(30).cumsum() + 100\n",
    "\n",
    "# Create DataFrame\n",
    "df = pl.DataFrame({\n",
    "    'date': dates,\n",
    "    'value': values\n",
    "})\n",
    "\n",
    "print(\"Sample data:\")\n",
    "print(df.head())"
   ]
  },
  {
   "cell_type": "code",
   "execution_count": null,
   "metadata": {},
   "outputs": [],
   "source": [
    "# Create a simple plot\n",
    "plt.figure(figsize=(10, 6))\n",
    "plt.plot(df['date'], df['value'], marker='o', linewidth=2, markersize=4)\n",
    "plt.title('Sample Time Series Data', fontsize=16)\n",
    "plt.xlabel('Date', fontsize=12)\n",
    "plt.ylabel('Value', fontsize=12)\n",
    "plt.grid(True, alpha=0.3)\n",
    "plt.xticks(rotation=45)\n",
    "plt.tight_layout()\n",
    "plt.show()\n",
    "\n",
    "print(\"\\nEnvironment test successful! Polars and matplotlib are working correctly.\")"
   ]
  },
  {
   "cell_type": "markdown",
   "metadata": {},
   "source": [
    "## Environment Ready\n",
    "\n",
    "The environment is now ready for your Solana program fund flow simulation. You can start building your analysis here!"
   ]
  }
 ],
 "metadata": {
  "kernelspec": {
   "display_name": "Feels Floor Sim (Nix)",
   "language": "python",
   "name": "feels-floor-sim"
  },
  "language_info": {
   "codemirror_mode": {
    "name": "ipython",
    "version": 3
   },
   "file_extension": ".py",
   "mimetype": "text/x-python",
   "name": "python",
   "nbconvert_exporter": "python",
   "pygments_lexer": "ipython3",
   "version": "3.13.undefined"
  }
 },
 "nbformat": 4,
 "nbformat_minor": 4
}
